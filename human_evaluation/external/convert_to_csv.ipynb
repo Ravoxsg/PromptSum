{
 "cells": [
  {
   "cell_type": "code",
   "execution_count": 2,
   "metadata": {},
   "outputs": [],
   "source": [
    "import random\n",
    "import os\n",
    "import numpy as np\n",
    "import pickle"
   ]
  },
  {
   "cell_type": "code",
   "execution_count": 3,
   "metadata": {},
   "outputs": [],
   "source": [
    "def seed_everything(seed=42):\n",
    "    random.seed(seed)\n",
    "    os.environ['PYTHONHASHSEED'] = str(seed)\n",
    "    np.random.seed(seed)\n",
    "#     torch.manual_seed(seed)\n",
    "#     torch.cuda.manual_seed(seed)\n",
    "#     torch.backends.cudnn.deterministic = True"
   ]
  },
  {
   "cell_type": "code",
   "execution_count": 4,
   "metadata": {},
   "outputs": [],
   "source": [
    "seed_everything(42)"
   ]
  },
  {
   "cell_type": "code",
   "execution_count": 38,
   "metadata": {},
   "outputs": [
    {
     "name": "stdout",
     "output_type": "stream",
     "text": [
      "dict_keys(['src', 'baseline', 'SummaFusion'])\n",
      "[0, 1, 0, 0, 0, 1, 0, 0, 0, 1, 0, 0, 0, 0, 1, 0, 1, 1, 1, 0, 1, 0, 1, 1, 1, 1, 1, 1, 1, 1, 0, 0, 1, 1, 1, 0, 1, 0, 0, 0, 0, 0, 1, 1, 1, 1, 1, 0, 1, 1]\n"
     ]
    }
   ],
   "source": [
    "path = \"data/xsum_pegasus_xsum_5_test_50.pkl\"\n",
    "data = pickle.load(open(path, \"rb\"))\n",
    "print(data.keys())\n",
    "\n",
    "flips = []\n",
    "with open(\"data/xsum.csv\", \"w\") as f:\n",
    "    f.write(\"Source document, Summary A, Summary B, Which one you prefer? (A / B / Tie), More informative?, More fluent?, More consistent?, No reason?\")\n",
    "    for i in range(len(data[\"src\"])):\n",
    "        text = data[\"src\"][i]\n",
    "        base = data[\"baseline\"][i]\n",
    "        new = data[\"SummaFusion\"][i]\n",
    "        text = \"\\\"\" + text.replace(\"\\\"\", \"\") + \"\\\"\"\n",
    "        base = \"\\\"\" + base.replace(\"\\\"\", \"\") + \"\\\"\"\n",
    "        new = \"\\\"\" + new.replace(\"\\\"\", \"\") + \"\\\"\"\n",
    "        flip = np.random.randint(2)\n",
    "        if flip == 0:\n",
    "            f.write(\"\\n\" + text + \",\" + base + \",\" + new)\n",
    "        else:\n",
    "            f.write(\"\\n\" + text + \",\" + new + \",\" + base)\n",
    "        flips.append(flip)\n",
    "with open(\"xsum_flips.pkl\", \"wb\") as f:\n",
    "    pickle.dump(flips, f)\n",
    "print(flips)"
   ]
  },
  {
   "cell_type": "code",
   "execution_count": 5,
   "metadata": {},
   "outputs": [
    {
     "name": "stdout",
     "output_type": "stream",
     "text": [
      "2 0\n",
      "3 1\n",
      "4 0\n",
      "5 0\n",
      "6 0\n",
      "7 1\n",
      "8 0\n",
      "9 0\n",
      "10 0\n",
      "11 1\n",
      "12 0\n",
      "13 0\n",
      "14 0\n",
      "15 0\n",
      "16 1\n",
      "17 0\n",
      "18 1\n",
      "19 1\n",
      "20 1\n",
      "21 0\n",
      "22 1\n",
      "23 0\n",
      "24 1\n",
      "25 1\n",
      "26 1\n",
      "27 1\n",
      "28 1\n",
      "29 1\n",
      "30 1\n",
      "31 1\n",
      "32 0\n",
      "33 0\n",
      "34 1\n",
      "35 1\n",
      "36 1\n",
      "37 0\n",
      "38 1\n",
      "39 0\n",
      "40 0\n",
      "41 0\n",
      "42 0\n",
      "43 0\n",
      "44 1\n",
      "45 1\n",
      "46 1\n",
      "47 1\n",
      "48 1\n",
      "49 0\n",
      "50 1\n",
      "51 1\n"
     ]
    }
   ],
   "source": [
    "samsum_flips = pickle.load(open(\"xsum_flips.pkl\", \"rb\"))\n",
    "for i in range(len(samsum_flips)):\n",
    "    print(i+2, samsum_flips[i])"
   ]
  },
  {
   "cell_type": "code",
   "execution_count": 40,
   "metadata": {},
   "outputs": [
    {
     "name": "stdout",
     "output_type": "stream",
     "text": [
      "dict_keys(['src', 'baseline', 'SummaFusion'])\n",
      "[0, 1, 1, 1, 1, 1, 1, 1, 1, 0, 1, 0, 1, 1, 0, 1, 0, 1, 1, 0, 1, 0, 1, 0, 0, 1, 1, 0, 1, 1, 1, 0, 0, 0, 0, 0, 0, 0, 0, 0, 1, 0, 1, 1, 1, 0, 0, 0, 0, 1]\n"
     ]
    }
   ],
   "source": [
    "path = \"data/samsum_pegasus_samsum_4_test_50.pkl\"\n",
    "data = pickle.load(open(path, \"rb\"))\n",
    "print(data.keys())\n",
    "\n",
    "flips = []\n",
    "with open(\"data/samsum.csv\", \"w\") as f:\n",
    "    f.write(\"Source document, Summary A, Summary B, Which one you prefer? (A / B / Tie), More informative?, More fluent?, More consistent?, No reason?\")\n",
    "    for i in range(len(data[\"src\"])):\n",
    "        text = data[\"src\"][i]\n",
    "        base = data[\"baseline\"][i]\n",
    "        new = data[\"SummaFusion\"][i]\n",
    "        text = \"\\\"\" + text.replace(\"\\\"\", \"\") + \"\\\"\"\n",
    "        base = \"\\\"\" + base.replace(\"\\\"\", \"\") + \"\\\"\"\n",
    "        new = \"\\\"\" + new.replace(\"\\\"\", \"\") + \"\\\"\"\n",
    "        flip = np.random.randint(2)\n",
    "        if flip == 0:\n",
    "            f.write(\"\\n\" + text + \",\" + base + \",\" + new)\n",
    "        else:\n",
    "            f.write(\"\\n\" + text + \",\" + new + \",\" + base)\n",
    "        flips.append(flip)\n",
    "with open(\"samsum_flips.pkl\", \"wb\") as f:\n",
    "    pickle.dump(flips, f)\n",
    "print(flips)"
   ]
  },
  {
   "cell_type": "code",
   "execution_count": 52,
   "metadata": {},
   "outputs": [
    {
     "name": "stdout",
     "output_type": "stream",
     "text": [
      "2 0\n",
      "3 1\n",
      "4 1\n",
      "5 1\n",
      "6 1\n",
      "7 1\n",
      "8 1\n",
      "9 1\n",
      "10 1\n",
      "11 0\n",
      "12 1\n",
      "13 0\n",
      "14 1\n",
      "15 1\n",
      "16 0\n",
      "17 1\n",
      "18 0\n",
      "19 1\n",
      "20 1\n",
      "21 0\n",
      "22 1\n",
      "23 0\n",
      "24 1\n",
      "25 0\n",
      "26 0\n",
      "27 1\n",
      "28 1\n",
      "29 0\n",
      "30 1\n",
      "31 1\n",
      "32 1\n",
      "33 0\n",
      "34 0\n",
      "35 0\n",
      "36 0\n",
      "37 0\n",
      "38 0\n",
      "39 0\n",
      "40 0\n",
      "41 0\n",
      "42 1\n",
      "43 0\n",
      "44 1\n",
      "45 1\n",
      "46 1\n",
      "47 0\n",
      "48 0\n",
      "49 0\n",
      "50 0\n",
      "51 1\n"
     ]
    }
   ],
   "source": [
    "samsum_flips = pickle.load(open(\"samsum_flips.pkl\", \"rb\"))\n",
    "for i in range(len(samsum_flips)):\n",
    "    print(i+2, samsum_flips[i])"
   ]
  },
  {
   "cell_type": "code",
   "execution_count": null,
   "metadata": {},
   "outputs": [],
   "source": []
  }
 ],
 "metadata": {
  "kernelspec": {
   "display_name": "Python 3",
   "language": "python",
   "name": "python3"
  },
  "language_info": {
   "codemirror_mode": {
    "name": "ipython",
    "version": 3
   },
   "file_extension": ".py",
   "mimetype": "text/x-python",
   "name": "python",
   "nbconvert_exporter": "python",
   "pygments_lexer": "ipython3",
   "version": "3.8.5"
  }
 },
 "nbformat": 4,
 "nbformat_minor": 4
}
